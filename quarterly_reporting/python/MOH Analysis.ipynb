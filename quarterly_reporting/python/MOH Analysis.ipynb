{
 "cells": [
  {
   "cell_type": "code",
   "execution_count": 2,
   "metadata": {
    "collapsed": false
   },
   "outputs": [],
   "source": [
    "# Utility Functions\n",
    "\n",
    "import csv\n",
    "import os\n",
    "from tkinter.filedialog import askopenfilename\n",
    "from tkinter import Tk\n",
    "\n",
    "def get_filepath(filename=None):\n",
    "    return os.path.join(os.getcwd(), '..', 'data', filename)\n",
    "\n",
    "def getfile(initialdir=None, title=None):\n",
    "    Tk().withdraw()\n",
    "    \n",
    "    filename = askopenfilename(initialdir=initialdir or os.path.expanduser(\"~\"),\n",
    "                               title=title or 'Select report file')\n",
    "    \n",
    "    return filename\n",
    "\n",
    "def print_summary(summary):\n",
    "    for key, value in summary.items():\n",
    "        print(key, ':', \n",
    "              value, '/', summary['total'], \n",
    "              '(', round(value / summary['total'] * 100, 2), '%)')\n"
   ]
  },
  {
   "cell_type": "code",
   "execution_count": 8,
   "metadata": {
    "collapsed": false
   },
   "outputs": [
    {
     "name": "stdout",
     "output_type": "stream",
     "text": [
      "Months since Hb A1C : 971 / 1218 ( 79.72 %)\n",
      "Months since LDL : 1001 / 1218 ( 82.18 %)\n",
      "Months since Systolic BP [BP:] : 1028 / 1218 ( 84.4 %)\n",
      "All : 823 / 1218 ( 67.57 %)\n",
      "total : 1218 / 1218 ( 100.0 %)\n",
      "Finished!\n"
     ]
    }
   ],
   "source": [
    "#! /usr/bin/env python3\n",
    "\n",
    "# This script analyses the diabetes data produced by the search\n",
    "# MOH - Diabetes - Performance Measures\n",
    "\n",
    "targets = {\n",
    "        'Months since Hb A1C': 6,\n",
    "        'Months since Systolic BP [BP:]': 6,\n",
    "        'Months since LDL': 12,\n",
    "}\n",
    "\n",
    "summary = {\n",
    "        'Months since Hb A1C': 0,\n",
    "        'Months since Systolic BP [BP:]': 0,\n",
    "        'Months since LDL': 0,\n",
    "        'All': 0,\n",
    "        'total': 0\n",
    "}\n",
    "\n",
    "filename = getfile(title=\"Select diabetes report\")\n",
    "\n",
    "with open(filename) as file:\n",
    "    next(file)\n",
    "\n",
    "    reader = csv.DictReader(file)\n",
    "\n",
    "    for row in reader:\n",
    "        targets_met = 0\n",
    "        for field, target in targets.items():\n",
    "            try: \n",
    "                if int(row[field]) <= target:\n",
    "                    summary[field] += 1\n",
    "                    targets_met += 1\n",
    "            except ValueError as e:\n",
    "                # This is because the value is 'never done'\n",
    "                continue\n",
    "        if targets_met == 3:\n",
    "            summary['All'] += 1\n",
    "        summary['total'] += 1\n",
    "\n",
    "print_summary(summary)\n",
    "\n",
    "print('Finished!')"
   ]
  },
  {
   "cell_type": "code",
   "execution_count": 34,
   "metadata": {
    "collapsed": false
   },
   "outputs": [
    {
     "name": "stdout",
     "output_type": "stream",
     "text": [
      "total : 1449 / 1449 ( 100.0 %)\n",
      "coded : 391 / 1449 ( 26.98 %)\n",
      "Finished\n"
     ]
    }
   ],
   "source": [
    "#! /usr/bin/env python3\n",
    "\n",
    "# This script analyses the lung health data produced by the search\n",
    "# MOH - Diabetes - Performance Measures\n",
    "\n",
    "summary = {\n",
    "    'coded': 0,\n",
    "    'total': 0\n",
    "}\n",
    "\n",
    "target_codes = ('491', '492', '493', '496')\n",
    "\n",
    "filename = getfile(title=\"Select Lung Health Report\")\n",
    "\n",
    "with open(filename) as file:\n",
    "    next(file)\n",
    "    \n",
    "    reader = csv.DictReader(file)\n",
    "    \n",
    "    for row in reader:\n",
    "        codes = [code.strip() for code in row['ICD-9'].split(',')]\n",
    "        if any(code in codes for code in target_codes):\n",
    "            summary['coded'] += 1\n",
    "    \n",
    "        summary['total'] += 1\n",
    "    \n",
    "print_summary(summary)\n",
    "            \n",
    "print('Finished')\n",
    "            "
   ]
  },
  {
   "cell_type": "code",
   "execution_count": 10,
   "metadata": {
    "collapsed": false
   },
   "outputs": [
    {
     "data": {
      "text/plain": [
       "30"
      ]
     },
     "execution_count": 10,
     "metadata": {},
     "output_type": "execute_result"
    }
   ],
   "source": [
    "min_age = 2.5\n",
    "member_status = 'FHO Enrolled'\n",
    "\n",
    "def convert_age_to_years(age):\n",
    "    if age.endswith('mo'):\n",
    "        months = age.split()[0]\n",
    "        return int(months) / 12\n",
    "    else:\n",
    "        return int(age)\n",
    "    \n"
   ]
  },
  {
   "cell_type": "code",
   "execution_count": 38,
   "metadata": {
    "collapsed": false
   },
   "outputs": [
    {
     "name": "stdout",
     "output_type": "stream",
     "text": [
      "Total Patients:  8567\n",
      "Number of Appointments:  22418\n",
      "Total Patients (YTD):  8567\n",
      "Number of Appointments (YTD):  22418\n",
      "Included Appointments: \n",
      "(blank): 18506\n",
      "1105 - Counselling: 11\n",
      "1105 - Drivers Medical: 25\n",
      "1105 - House Call: 18\n",
      "1105 - Hypertension Followup: 3\n",
      "1105 - IUD Insertion: 4\n",
      "1105 - IUD NP Insertion: 5\n",
      "1105 - MEDREC: 31\n",
      "1105 - MOCA/MMSE: 36\n",
      "1105 - PN CPX (8-11wks!): 39\n",
      "1105 - Pap only: 168\n",
      "1105 - Pharmacist: 48\n",
      "1105 - Post Hospital Followup: 42\n",
      "1105 - Pre-Op: 219\n",
      "1105 - SW - Followup: 141\n",
      "1105 - SW - Intial : 119\n",
      "1105 - Smoke Initial: 27\n",
      "1105 - SmokeFollowup: 66\n",
      "1105 - Spirometry F/U with RN: 27\n",
      "1105 - Spirometry Testing: 53\n",
      "1105 - Telephone Advice: 2531\n",
      "1105 - Travel Advice: 23\n",
      "1105 - Wound Care: 4\n",
      "1105 -New Patient: 59\n",
      "BFARB-CPX-M: 54\n",
      "BFARB-FORMS: 24\n",
      "BFARB-RECALL: 2\n",
      "DIET-45 Followup: 38\n",
      "DIET-Initial Assessment: 85\n",
      "IFG Initial Counselling: 2\n",
      "INR: 1\n",
      "SW Appt: 6\n",
      "Welsh Physical: 1\n"
     ]
    }
   ],
   "source": [
    "# Acute and Episodic\n",
    "from collections import defaultdict\n",
    "from datetime import datetime\n",
    "\n",
    "excluded = [\n",
    "    '1105 - Urgent Care',\n",
    "    '1105 - Diabetic Check',\n",
    "    '1105 - Health Review',\n",
    "    '1105 - WBC',\n",
    "    'BFARB-WBC',\n",
    "    'BFAR-Diabetic Check',\n",
    "    '1105 - Footcare Visit',\n",
    "    '1105 - KIDS CPX', # CPX = Physical\n",
    "    '1105 - NP KIDS CPX',\n",
    "    '1105 - NP WBC',\n",
    "    '1105 - PN CPX (8011wk!)',\n",
    "    '1105 - PN(monthly)',\n",
    "    '1105 - PN(under 8 wks)',\n",
    "    'BFARB-CPX-F',\n",
    "    'BFARB-CPD-M',\n",
    "    'BFARB-KIDS CPX',\n",
    "]\n",
    "\n",
    "included = defaultdict(int)\n",
    "\n",
    "filename = getfile(title=\"Select appointments report\")\n",
    "\n",
    "assert(filename is not None)\n",
    "\n",
    "appointments = defaultdict(list)\n",
    "appointments_YTD = defaultdict(list)\n",
    "\n",
    "with open(filename, encoding='latin-1') as file:\n",
    "    \n",
    "    reader = csv.DictReader(file, delimiter='\\t')\n",
    "\n",
    "    for row in reader:\n",
    "        if row['Type'] not in excluded:\n",
    "            if datetime.strptime(row['Date'], '%b %d, %Y') >= datetime(2016,4,1):\n",
    "                appointments_YTD[row['Patient #']].append(row['Type'])\n",
    "            if datetime.strptime(row['Date'], '%b %d, %Y') >= datetime(2016,10,1):\n",
    "                appointments[row['Patient #']].append(row['Type'])\n",
    "            included[row['Type']] += 1\n",
    "\n",
    "print('Total Patients: ', len(appointments.keys()))\n",
    "print('Number of Appointments: ', sum(len(v) for v in appointments.values()))\n",
    "\n",
    "print('Total Patients (YTD): ', len(appointments_YTD.keys()))\n",
    "print('Number of Appointments (YTD): ', sum(len(v) for v in appointments_YTD.values()))\n",
    "\n",
    "print('Included Appointments: ')\n",
    "for k, v in sorted(included.items()):\n",
    "    if k == '':\n",
    "        k = '(blank)'\n",
    "    print(k + \":\", v)\n",
    "    \n",
    "\n",
    "\n"
   ]
  },
  {
   "cell_type": "code",
   "execution_count": 55,
   "metadata": {
    "collapsed": false
   },
   "outputs": [
    {
     "name": "stdout",
     "output_type": "stream",
     "text": [
      "Total Patients:  81\n",
      "Shows:  72\n"
     ]
    }
   ],
   "source": [
    "# OMSC\n",
    "from collections import defaultdict\n",
    "from pprint import pprint\n",
    "\n",
    "filename = getfile(title=\"Select appointments report\")\n",
    "\n",
    "assert(filename is not None)\n",
    "\n",
    "appointments = defaultdict(list)\n",
    "\n",
    "with open(filename, encoding='latin-1') as file:\n",
    "    \n",
    "    reader = csv.DictReader(file, delimiter='\\t')\n",
    "\n",
    "    for row in reader:\n",
    "        if row['Type'] == '1105 - SmokeFollowup':\n",
    "            if row['No Show'] == 'T':\n",
    "                appointments[row['Patient #']].append(False)\n",
    "            else:\n",
    "                appointments[row['Patient #']].append(True)\n",
    "\n",
    "print('Total Patients: ', len(appointments.keys()))\n",
    "print('Shows: ', len([a for a in appointments.values() if any(a)]))"
   ]
  },
  {
   "cell_type": "code",
   "execution_count": 53,
   "metadata": {
    "collapsed": false
   },
   "outputs": [
    {
     "data": {
      "text/plain": [
       "37"
      ]
     },
     "execution_count": 53,
     "metadata": {},
     "output_type": "execute_result"
    }
   ],
   "source": [
    "len([a for a in appointments.values() if any(a)])"
   ]
  },
  {
   "cell_type": "code",
   "execution_count": 58,
   "metadata": {
    "collapsed": false
   },
   "outputs": [
    {
     "name": "stdout",
     "output_type": "stream",
     "text": [
      "[155, 544, 832, 1545, 1627, 1989, 2039, 2488, 2624, 2727, 3149, 3481, 4151, 4208, 4308, 4321, 4935, 4952, 4954, 5050, 5243, 5411, 5412, 6279, 6543, 8101, 8182, 8869, 10047, 10362, 11558, 11742, 13953, 14571, 14965, 15619, 15973, 17601, 18003, 18017, 18428, 19437, 21862, 22406, 23127, 24088, 25731, 26148, 26546, 26564, 26945, 27068, 27070, 27370, 27486, 27574, 27628, 27977, 28294, 28602, 28694, 28806, 29698, 29854, 30333, 31229, 31901, 32947, 33230, 33507, 34040, 35564, 36658, 38031, 39124, 39177, 39344, 39472, 39637, 39697, 39921]\n"
     ]
    }
   ],
   "source": [
    "print(sorted([int(a) for a in appointments.keys()]))"
   ]
  },
  {
   "cell_type": "code",
   "execution_count": 67,
   "metadata": {
    "collapsed": false
   },
   "outputs": [
    {
     "name": "stdout",
     "output_type": "stream",
     "text": [
      "['181', '215', '371', '927', '1184', '1216', '1545', '1627', '1718', '1895', '2026', '2488', '3304', '3701', '4308', '4331', '4935', '4952', '5349', '5412', '5626', '5627', '6743', '6996', '7213', '7500', '8182', '8189', '8338', '8471', '8791', '9189', '10956', '11334', '11596', '12311', '14552', '14571', '15767', '15916', '15973', '16795', '18442', '19437', '20262', '20440', '20548', '22340', '23479', '25731', '26004', '26673', '27068', '27370', '27897', '27963', '28155', '28247', '28806', '29698', '30829', '30968', '32769', '33761', '34635', '35225', '35376', '35564', '38554', '39344', '39472', '39486', '39535', '39557', '39637', '39921']\n",
      "{'14571', '4952', '39344', '5412', '39921', '11742', '26564', '21862', '27977', '38031', '17601', '23127', '3481', '832', '26148', '18428', '29698', '27068', '39637', '4151', '18017', '33230', '28602', '27370', '544', '4308', '4935', '8101', '155', '39124', '15973', '31229', '31901', '30333', '4321', '27070', '6543', '18003', '32947', '8869', '36658', '14965', '26945', '2727', '2624', '28806', '26546', '39472', '27628', '2488', '13953', '1627', '10047', '27574', '19437', '2039', '10362', '25731', '15619', '1989', '1545', '34040', '4208', '11558', '5243', '28694', '39177', '4954', '8182', '33507', '22406', '27486', '35564', '5411', '5050', '28294', '39697', '3149', '29854', '24088', '6279'}\n",
      "Number Patients w Appointment:  81\n",
      "Number of Patients Ready to Quit:  76\n",
      "Number of Patients in Common:  21\n"
     ]
    }
   ],
   "source": [
    "temp = set(appointments.keys())\n",
    "\n",
    "filename = getfile(title=\"Select appointments report\")\n",
    "\n",
    "ready = []\n",
    "with open(filename, encoding='latin-1') as file:\n",
    "    reader = csv.reader(file)\n",
    "    next(reader)\n",
    "    next(reader)\n",
    "    for row in reader:\n",
    "        ready.append(row[0])\n",
    "\n",
    "print(ready)\n",
    "print(temp)\n",
    "\n",
    "print(\"Number Patients w Appointment: \", len(temp))\n",
    "print(\"Number of Patients Ready to Quit: \", len(ready))\n",
    "\n",
    "print(\"Number of Patients in Common: \", len(temp & set(ready)))"
   ]
  },
  {
   "cell_type": "code",
   "execution_count": 62,
   "metadata": {
    "collapsed": false
   },
   "outputs": [
    {
     "data": {
      "text/plain": [
       "['Patient #',\n",
       " '181',\n",
       " '215',\n",
       " '371',\n",
       " '927',\n",
       " '1184',\n",
       " '1216',\n",
       " '1545',\n",
       " '1627',\n",
       " '1718',\n",
       " '1895',\n",
       " '2026',\n",
       " '2488',\n",
       " '3304',\n",
       " '3701',\n",
       " '4308',\n",
       " '4331',\n",
       " '4935',\n",
       " '4952',\n",
       " '5349',\n",
       " '5412',\n",
       " '5626',\n",
       " '5627',\n",
       " '6743',\n",
       " '6996',\n",
       " '7213',\n",
       " '7500',\n",
       " '8182',\n",
       " '8189',\n",
       " '8338',\n",
       " '8471',\n",
       " '8791',\n",
       " '9189',\n",
       " '10956',\n",
       " '11334',\n",
       " '11596',\n",
       " '12311',\n",
       " '14552',\n",
       " '14571',\n",
       " '15767',\n",
       " '15916',\n",
       " '15973',\n",
       " '16795',\n",
       " '18442',\n",
       " '19437',\n",
       " '20262',\n",
       " '20440',\n",
       " '20548',\n",
       " '22340',\n",
       " '23479',\n",
       " '25731',\n",
       " '26004',\n",
       " '26673',\n",
       " '27068',\n",
       " '27370',\n",
       " '27897',\n",
       " '27963',\n",
       " '28155',\n",
       " '28247',\n",
       " '28806',\n",
       " '29698',\n",
       " '30829',\n",
       " '30968',\n",
       " '32769',\n",
       " '33761',\n",
       " '34635',\n",
       " '35225',\n",
       " '35376',\n",
       " '35564',\n",
       " '38554',\n",
       " '39344',\n",
       " '39472',\n",
       " '39486',\n",
       " '39535',\n",
       " '39557',\n",
       " '39637',\n",
       " '39921']"
      ]
     },
     "execution_count": 62,
     "metadata": {},
     "output_type": "execute_result"
    }
   ],
   "source": [
    "ready = sorted([int(a) for a in appointments.keys()])\n",
    "\n",
    "set(reader)"
   ]
  },
  {
   "cell_type": "code",
   "execution_count": null,
   "metadata": {
    "collapsed": true
   },
   "outputs": [],
   "source": []
  }
 ],
 "metadata": {
  "anaconda-cloud": {},
  "kernelspec": {
   "display_name": "Python [conda root]",
   "language": "python",
   "name": "conda-root-py"
  },
  "language_info": {
   "codemirror_mode": {
    "name": "ipython",
    "version": 3
   },
   "file_extension": ".py",
   "mimetype": "text/x-python",
   "name": "python",
   "nbconvert_exporter": "python",
   "pygments_lexer": "ipython3",
   "version": "3.5.2"
  }
 },
 "nbformat": 4,
 "nbformat_minor": 1
}
